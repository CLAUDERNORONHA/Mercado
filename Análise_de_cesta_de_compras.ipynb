{
 "cells": [
  {
   "cell_type": "markdown",
   "metadata": {
    "id": "5NUvf73YODOG"
   },
   "source": [
    "A análise de cesta de compras é uma prática comum de ciência de dados implementada por varejistas. \n",
    "\n",
    "O objetivo é descobrir as associações entre os itens. \n",
    "\n",
    "É muito importante ter uma ideia do que as pessoas tendem a comprar juntas.\n",
    "\n",
    "\n",
    "Ter uma análise de cesta de compras decente fornece uma visão útil para organizações de corredor, vendas, campanhas de marketing e muito mais."
   ]
  },
  {
   "cell_type": "code",
   "execution_count": 1,
   "metadata": {
    "id": "FIxKew6Uiju-"
   },
   "outputs": [],
   "source": [
    "import pandas as pd\n",
    "import numpy as np\n",
    "import matplotlib.pyplot as plt\n"
   ]
  },
  {
   "cell_type": "code",
   "execution_count": 2,
   "metadata": {
    "id": "OnWdDH6TjE3a"
   },
   "outputs": [],
   "source": [
    "mercado = pd.read_csv('/content/drive/My Drive/ESTUDO-DE-CASO/mercado/dataset.csv')"
   ]
  },
  {
   "cell_type": "code",
   "execution_count": 3,
   "metadata": {
    "colab": {
     "base_uri": "https://localhost:8080/",
     "height": 197
    },
    "id": "OzcmRQP_jdbd",
    "outputId": "c3d9d1c9-8c8b-44ee-a01e-cebccde1655c"
   },
   "outputs": [
    {
     "data": {
      "text/html": [
       "<div>\n",
       "<style scoped>\n",
       "    .dataframe tbody tr th:only-of-type {\n",
       "        vertical-align: middle;\n",
       "    }\n",
       "\n",
       "    .dataframe tbody tr th {\n",
       "        vertical-align: top;\n",
       "    }\n",
       "\n",
       "    .dataframe thead th {\n",
       "        text-align: right;\n",
       "    }\n",
       "</style>\n",
       "<table border=\"1\" class=\"dataframe\">\n",
       "  <thead>\n",
       "    <tr style=\"text-align: right;\">\n",
       "      <th></th>\n",
       "      <th>Member_number</th>\n",
       "      <th>Date</th>\n",
       "      <th>itemDescription</th>\n",
       "    </tr>\n",
       "  </thead>\n",
       "  <tbody>\n",
       "    <tr>\n",
       "      <th>0</th>\n",
       "      <td>1808</td>\n",
       "      <td>21-07-2015</td>\n",
       "      <td>tropical fruit</td>\n",
       "    </tr>\n",
       "    <tr>\n",
       "      <th>1</th>\n",
       "      <td>2552</td>\n",
       "      <td>05-01-2015</td>\n",
       "      <td>whole milk</td>\n",
       "    </tr>\n",
       "    <tr>\n",
       "      <th>2</th>\n",
       "      <td>2300</td>\n",
       "      <td>19-09-2015</td>\n",
       "      <td>pip fruit</td>\n",
       "    </tr>\n",
       "    <tr>\n",
       "      <th>3</th>\n",
       "      <td>1187</td>\n",
       "      <td>12-12-2015</td>\n",
       "      <td>other vegetables</td>\n",
       "    </tr>\n",
       "    <tr>\n",
       "      <th>4</th>\n",
       "      <td>3037</td>\n",
       "      <td>01-02-2015</td>\n",
       "      <td>whole milk</td>\n",
       "    </tr>\n",
       "  </tbody>\n",
       "</table>\n",
       "</div>"
      ],
      "text/plain": [
       "   Member_number        Date   itemDescription\n",
       "0           1808  21-07-2015    tropical fruit\n",
       "1           2552  05-01-2015        whole milk\n",
       "2           2300  19-09-2015         pip fruit\n",
       "3           1187  12-12-2015  other vegetables\n",
       "4           3037  01-02-2015        whole milk"
      ]
     },
     "execution_count": 3,
     "metadata": {
      "tags": []
     },
     "output_type": "execute_result"
    }
   ],
   "source": [
    "mercado.head()"
   ]
  },
  {
   "cell_type": "markdown",
   "metadata": {
    "id": "NmL4dWFvjil6"
   },
   "source": [
    "O conjunto de dos, mostra de forma organizada que cada linha representa um itemcomprando em um determinado \n",
    "dia por um cliente"
   ]
  },
  {
   "cell_type": "code",
   "execution_count": 3,
   "metadata": {
    "id": "NNL4_nAOj-ak"
   },
   "outputs": [],
   "source": []
  },
  {
   "cell_type": "code",
   "execution_count": 4,
   "metadata": {
    "colab": {
     "base_uri": "https://localhost:8080/",
     "height": 33
    },
    "id": "7K6APGXxj5BF",
    "outputId": "f93c8b07-eb34-4b26-e57b-926aad4403ac"
   },
   "outputs": [
    {
     "data": {
      "text/plain": [
       "(38765, 3)"
      ]
     },
     "execution_count": 4,
     "metadata": {
      "tags": []
     },
     "output_type": "execute_result"
    }
   ],
   "source": [
    "#Quantidade de linhas e colunas\n",
    "mercado.shape\n"
   ]
  },
  {
   "cell_type": "code",
   "execution_count": 5,
   "metadata": {
    "colab": {
     "base_uri": "https://localhost:8080/",
     "height": 33
    },
    "id": "JC4v60Ptj5Dh",
    "outputId": "6dd5ae04-92d0-4561-cfd2-952de62434e0"
   },
   "outputs": [
    {
     "data": {
      "text/plain": [
       "0"
      ]
     },
     "execution_count": 5,
     "metadata": {
      "tags": []
     },
     "output_type": "execute_result"
    }
   ],
   "source": [
    "#Verificar dados ausentes\n",
    "mercado.isna().sum().sum()"
   ]
  },
  {
   "cell_type": "code",
   "execution_count": 6,
   "metadata": {
    "colab": {
     "base_uri": "https://localhost:8080/",
     "height": 83
    },
    "id": "ekz1-Mmqj5F5",
    "outputId": "36b0d33e-287e-4f51-dccf-b1cd1f150928"
   },
   "outputs": [
    {
     "data": {
      "text/plain": [
       "Member_number       int64\n",
       "Date               object\n",
       "itemDescription    object\n",
       "dtype: object"
      ]
     },
     "execution_count": 6,
     "metadata": {
      "tags": []
     },
     "output_type": "execute_result"
    }
   ],
   "source": [
    "mercado.dtypes"
   ]
  },
  {
   "cell_type": "markdown",
   "metadata": {
    "id": "CTucMHTfj5IG"
   },
   "source": [
    "preciso converter a coluna data em datatime\n"
   ]
  },
  {
   "cell_type": "code",
   "execution_count": 7,
   "metadata": {
    "id": "8VjhgUL8j5Kr"
   },
   "outputs": [],
   "source": [
    "#conveter\n",
    "\n",
    "mercado.Date = pd.to_datetime(mercado.Date)"
   ]
  },
  {
   "cell_type": "code",
   "execution_count": 8,
   "metadata": {
    "colab": {
     "base_uri": "https://localhost:8080/",
     "height": 83
    },
    "id": "o2TFiTWVktc-",
    "outputId": "b5227b67-ba9f-4ba6-a8fd-22426971adec"
   },
   "outputs": [
    {
     "data": {
      "text/plain": [
       "Member_number               int64\n",
       "Date               datetime64[ns]\n",
       "itemDescription            object\n",
       "dtype: object"
      ]
     },
     "execution_count": 8,
     "metadata": {
      "tags": []
     },
     "output_type": "execute_result"
    }
   ],
   "source": [
    "#Conferir a mudança\n",
    "mercado.dtypes"
   ]
  },
  {
   "cell_type": "code",
   "execution_count": 8,
   "metadata": {
    "id": "Uj9ZxU02ktfY"
   },
   "outputs": [],
   "source": []
  },
  {
   "cell_type": "markdown",
   "metadata": {
    "id": "llDxBYixktjq"
   },
   "source": [
    "Vamos primeiro verificar o número médio de itens vendidos por dia. Uma maneira de fazer isso é agrupar os itens por data e contar os itens. Podemos então traçar o resultado."
   ]
  },
  {
   "cell_type": "code",
   "execution_count": 9,
   "metadata": {
    "colab": {
     "base_uri": "https://localhost:8080/",
     "height": 411
    },
    "id": "9mMEPZ3dktmC",
    "outputId": "dcf7b47a-9b1d-49d8-a53e-83780ca8c8a7"
   },
   "outputs": [
    {
     "data": {
      "image/png": "[encoded data removed]",
      "text/plain": [
       "<Figure size 864x432 with 1 Axes>"
      ]
     },
     "metadata": {
      "needs_background": "light",
      "tags": []
     },
     "output_type": "display_data"
    }
   ],
   "source": [
    "mercado[['Date','itemDescription']].groupby('Date').count().plot(figsize=(12,6), legend=False, fontsize=14)\n",
    "\n",
    "plt.title('Numero de iens Vendido por Dia', fontsize = 18)\n",
    "plt.xlabel('Date', fontsize =14)\n",
    "plt.ylabel('Qty', fontsize = 14)\n",
    "\n",
    "plt.show()"
   ]
  },
  {
   "cell_type": "markdown",
   "metadata": {
    "id": "hmJ7wNavktoY"
   },
   "source": [
    "Vou diminuir a frequenci para melhorar um pouco a resolução da imagem."
   ]
  },
  {
   "cell_type": "code",
   "execution_count": 10,
   "metadata": {
    "colab": {
     "base_uri": "https://localhost:8080/",
     "height": 433
    },
    "id": "DJaUP68Hktq1",
    "outputId": "5e446e6e-d08b-4903-ae6c-6101b8a1a4d9"
   },
   "outputs": [
    {
     "data": {
      "image/png": "[encoded data removed]",
      "text/plain": [
       "<Figure size 864x432 with 1 Axes>"
      ]
     },
     "metadata": {
      "needs_background": "light",
      "tags": []
     },
     "output_type": "display_data"
    }
   ],
   "source": [
    "mercado[['Date','itemDescription']].groupby('Date').count().resample('M').mean().plot(figsize = (12,6),legend = False , fontsize = 14)\n",
    "\n",
    "plt.title ('Número de itens vendidos por dia', fontsize = 18) \n",
    "plt.xlabel ('Date', fontsize = 14) \n",
    "plt.ylabel ('Qty', fontsize = 14)\n",
    "\n",
    "plt.show()"
   ]
  },
  {
   "cell_type": "markdown",
   "metadata": {
    "id": "BkRhTeLym7vN"
   },
   "source": [
    "Parece que os negócios estão melhorando porque as quantidades dos itens seguem uma tendência geral de aumento.\n",
    "Cada linha no conjunto de dados representa um item comprado por um cliente em um determinado dia. Se um cliente comprar três itens em uma compra, haverá três linhas com o mesmo número de cliente e data, mas com descrição de item diferente.\n",
    "\n",
    "\n",
    "\n",
    "\n",
    "Outra medida é o número médio de itens por compra, que pode ser calculado agrupando os itens por número de cliente e data."
   ]
  },
  {
   "cell_type": "code",
   "execution_count": 11,
   "metadata": {
    "id": "Io7lRbpvm77y"
   },
   "outputs": [],
   "source": [
    "item_compra = mercado[['Member_number', 'Date','itemDescription']]\\\n",
    ".groupby(['Member_number','Date']).count().reset_index()"
   ]
  },
  {
   "cell_type": "code",
   "execution_count": 12,
   "metadata": {
    "colab": {
     "base_uri": "https://localhost:8080/",
     "height": 197
    },
    "id": "NmITxnLom8BA",
    "outputId": "abc854f3-1392-4f5a-9a25-93455a530503"
   },
   "outputs": [
    {
     "data": {
      "text/html": [
       "<div>\n",
       "<style scoped>\n",
       "    .dataframe tbody tr th:only-of-type {\n",
       "        vertical-align: middle;\n",
       "    }\n",
       "\n",
       "    .dataframe tbody tr th {\n",
       "        vertical-align: top;\n",
       "    }\n",
       "\n",
       "    .dataframe thead th {\n",
       "        text-align: right;\n",
       "    }\n",
       "</style>\n",
       "<table border=\"1\" class=\"dataframe\">\n",
       "  <thead>\n",
       "    <tr style=\"text-align: right;\">\n",
       "      <th></th>\n",
       "      <th>Member_number</th>\n",
       "      <th>Date</th>\n",
       "      <th>itemDescription</th>\n",
       "    </tr>\n",
       "  </thead>\n",
       "  <tbody>\n",
       "    <tr>\n",
       "      <th>0</th>\n",
       "      <td>1000</td>\n",
       "      <td>2014-06-24</td>\n",
       "      <td>3</td>\n",
       "    </tr>\n",
       "    <tr>\n",
       "      <th>1</th>\n",
       "      <td>1000</td>\n",
       "      <td>2015-03-15</td>\n",
       "      <td>4</td>\n",
       "    </tr>\n",
       "    <tr>\n",
       "      <th>2</th>\n",
       "      <td>1000</td>\n",
       "      <td>2015-05-27</td>\n",
       "      <td>2</td>\n",
       "    </tr>\n",
       "    <tr>\n",
       "      <th>3</th>\n",
       "      <td>1000</td>\n",
       "      <td>2015-07-24</td>\n",
       "      <td>2</td>\n",
       "    </tr>\n",
       "    <tr>\n",
       "      <th>4</th>\n",
       "      <td>1000</td>\n",
       "      <td>2015-11-25</td>\n",
       "      <td>2</td>\n",
       "    </tr>\n",
       "  </tbody>\n",
       "</table>\n",
       "</div>"
      ],
      "text/plain": [
       "   Member_number       Date  itemDescription\n",
       "0           1000 2014-06-24                3\n",
       "1           1000 2015-03-15                4\n",
       "2           1000 2015-05-27                2\n",
       "3           1000 2015-07-24                2\n",
       "4           1000 2015-11-25                2"
      ]
     },
     "execution_count": 12,
     "metadata": {
      "tags": []
     },
     "output_type": "execute_result"
    }
   ],
   "source": [
    "item_compra.head()"
   ]
  },
  {
   "cell_type": "markdown",
   "metadata": {
    "id": "hT46ijJ1m8Fh"
   },
   "source": [
    "O dataframe item_compra mostra o número de itens qm cada compra.Por exemplo:\n",
    "O cliente 1000 comprou 3 itens em 2014-06-24"
   ]
  },
  {
   "cell_type": "code",
   "execution_count": 13,
   "metadata": {
    "colab": {
     "base_uri": "https://localhost:8080/",
     "height": 33
    },
    "id": "h77seO1fktta",
    "outputId": "c01f9add-c514-4ce1-ba1c-49a586ffe5ea"
   },
   "outputs": [
    {
     "data": {
      "text/plain": [
       "2.590723785337165"
      ]
     },
     "execution_count": 13,
     "metadata": {
      "tags": []
     },
     "output_type": "execute_result"
    }
   ],
   "source": [
    "#Vamos saber o número médio de itens por compra, gira em torno de 2,5\n",
    "\n",
    "item_compra.itemDescription.mean()"
   ]
  },
  {
   "cell_type": "markdown",
   "metadata": {
    "id": "sMn8ZCIzrxTs"
   },
   "source": [
    "Queremos saber o número de distribuição do número de itens por compra."
   ]
  },
  {
   "cell_type": "code",
   "execution_count": 14,
   "metadata": {
    "colab": {
     "base_uri": "https://localhost:8080/",
     "height": 397
    },
    "id": "rE05pyXDrxY-",
    "outputId": "eeaa4499-8882-47c3-8739-6e0153624973"
   },
   "outputs": [
    {
     "data": {
      "image/png": "[encoded data removed]",
      "text/plain": [
       "<Figure size 720x432 with 1 Axes>"
      ]
     },
     "metadata": {
      "needs_background": "light",
      "tags": []
     },
     "output_type": "display_data"
    }
   ],
   "source": [
    "item_compra.itemDescription.plot(figsize = (10,6), kind = 'hist',\n",
    "                                 legend = False, fontsize = 14)\n",
    "\n",
    "plt.title('Quantidade de itens por compra', fontsize = 18)\n",
    "\n",
    "plt.show()"
   ]
  },
  {
   "cell_type": "markdown",
   "metadata": {
    "id": "AF5Ly-4yrxcm"
   },
   "source": [
    "Os clientes têm maior probabilidade de comprar 2–3 itens juntos.\n"
   ]
  },
  {
   "cell_type": "code",
   "execution_count": 14,
   "metadata": {
    "id": "0_5UfAw_rxg3"
   },
   "outputs": [],
   "source": []
  },
  {
   "cell_type": "markdown",
   "metadata": {
    "id": "OKY8ruHVrxkW"
   },
   "source": [
    "O foco principal da análise da cesta de compras é quais itens são comprados juntos. Uma técnica comum é o aprendizado de regras de associação, que é um método de aprendizado de máquina para descobrir relacionamentos entre variáveis. O algoritmo a priori é um algoritmo frequentemente usado para aprendizagem de regras de associação.\n",
    "Não entraremos em detalhes sobre algoritmo apriori ou aprendizado de regra de associação neste artigo. Em vez disso, mostrarei uma maneira simples de verificar quais itens são frequentemente comprados juntos.\n",
    "Vamos primeiro criar um dataframe que contém a lista de itens por compra."
   ]
  },
  {
   "cell_type": "code",
   "execution_count": 14,
   "metadata": {
    "id": "vBGrZOOdrxoO"
   },
   "outputs": [],
   "source": []
  },
  {
   "cell_type": "code",
   "execution_count": 17,
   "metadata": {
    "id": "phEesSGCuSL7"
   },
   "outputs": [],
   "source": [
    "lista_compras = mercado.groupby(['Member_number','Date']).agg({'itemDescription': lambda x: x.ravel().tolist()}).reset_index()"
   ]
  },
  {
   "cell_type": "code",
   "execution_count": 18,
   "metadata": {
    "colab": {
     "base_uri": "https://localhost:8080/",
     "height": 406
    },
    "id": "he6VD0vmuSTZ",
    "outputId": "8031da6a-c002-4059-f3bd-b8a21db43b53"
   },
   "outputs": [
    {
     "data": {
      "text/html": [
       "<div>\n",
       "<style scoped>\n",
       "    .dataframe tbody tr th:only-of-type {\n",
       "        vertical-align: middle;\n",
       "    }\n",
       "\n",
       "    .dataframe tbody tr th {\n",
       "        vertical-align: top;\n",
       "    }\n",
       "\n",
       "    .dataframe thead th {\n",
       "        text-align: right;\n",
       "    }\n",
       "</style>\n",
       "<table border=\"1\" class=\"dataframe\">\n",
       "  <thead>\n",
       "    <tr style=\"text-align: right;\">\n",
       "      <th></th>\n",
       "      <th>Member_number</th>\n",
       "      <th>Date</th>\n",
       "      <th>itemDescription</th>\n",
       "    </tr>\n",
       "  </thead>\n",
       "  <tbody>\n",
       "    <tr>\n",
       "      <th>0</th>\n",
       "      <td>1000</td>\n",
       "      <td>2014-06-24</td>\n",
       "      <td>[whole milk, pastry, salty snack]</td>\n",
       "    </tr>\n",
       "    <tr>\n",
       "      <th>1</th>\n",
       "      <td>1000</td>\n",
       "      <td>2015-03-15</td>\n",
       "      <td>[sausage, whole milk, semi-finished bread, yog...</td>\n",
       "    </tr>\n",
       "    <tr>\n",
       "      <th>2</th>\n",
       "      <td>1000</td>\n",
       "      <td>2015-05-27</td>\n",
       "      <td>[soda, pickled vegetables]</td>\n",
       "    </tr>\n",
       "    <tr>\n",
       "      <th>3</th>\n",
       "      <td>1000</td>\n",
       "      <td>2015-07-24</td>\n",
       "      <td>[canned beer, misc. beverages]</td>\n",
       "    </tr>\n",
       "    <tr>\n",
       "      <th>4</th>\n",
       "      <td>1000</td>\n",
       "      <td>2015-11-25</td>\n",
       "      <td>[sausage, hygiene articles]</td>\n",
       "    </tr>\n",
       "    <tr>\n",
       "      <th>...</th>\n",
       "      <td>...</td>\n",
       "      <td>...</td>\n",
       "      <td>...</td>\n",
       "    </tr>\n",
       "    <tr>\n",
       "      <th>14958</th>\n",
       "      <td>4999</td>\n",
       "      <td>2015-05-16</td>\n",
       "      <td>[butter milk, whipped/sour cream]</td>\n",
       "    </tr>\n",
       "    <tr>\n",
       "      <th>14959</th>\n",
       "      <td>4999</td>\n",
       "      <td>2015-12-26</td>\n",
       "      <td>[bottled water, herbs]</td>\n",
       "    </tr>\n",
       "    <tr>\n",
       "      <th>14960</th>\n",
       "      <td>5000</td>\n",
       "      <td>2014-09-03</td>\n",
       "      <td>[fruit/vegetable juice, onions]</td>\n",
       "    </tr>\n",
       "    <tr>\n",
       "      <th>14961</th>\n",
       "      <td>5000</td>\n",
       "      <td>2014-11-16</td>\n",
       "      <td>[bottled beer, other vegetables]</td>\n",
       "    </tr>\n",
       "    <tr>\n",
       "      <th>14962</th>\n",
       "      <td>5000</td>\n",
       "      <td>2015-10-02</td>\n",
       "      <td>[soda, root vegetables, semi-finished bread]</td>\n",
       "    </tr>\n",
       "  </tbody>\n",
       "</table>\n",
       "<p>14963 rows × 3 columns</p>\n",
       "</div>"
      ],
      "text/plain": [
       "       Member_number  ...                                    itemDescription\n",
       "0               1000  ...                  [whole milk, pastry, salty snack]\n",
       "1               1000  ...  [sausage, whole milk, semi-finished bread, yog...\n",
       "2               1000  ...                         [soda, pickled vegetables]\n",
       "3               1000  ...                     [canned beer, misc. beverages]\n",
       "4               1000  ...                        [sausage, hygiene articles]\n",
       "...              ...  ...                                                ...\n",
       "14958           4999  ...                  [butter milk, whipped/sour cream]\n",
       "14959           4999  ...                             [bottled water, herbs]\n",
       "14960           5000  ...                    [fruit/vegetable juice, onions]\n",
       "14961           5000  ...                   [bottled beer, other vegetables]\n",
       "14962           5000  ...       [soda, root vegetables, semi-finished bread]\n",
       "\n",
       "[14963 rows x 3 columns]"
      ]
     },
     "execution_count": 18,
     "metadata": {
      "tags": []
     },
     "output_type": "execute_result"
    }
   ],
   "source": [
    "lista_compras"
   ]
  },
  {
   "cell_type": "markdown",
   "metadata": {
    "id": "PkNxgX3EuSZ4"
   },
   "source": [
    "Três itens comprados pelo cliente 1000 em 2014–06–24 são leite integral, pastelaria e salgadinho.\n",
    "Precisamos determinar quais itens existem freqüentemente nas mesmas linhas na coluna “itemDescription”.\n"
   ]
  },
  {
   "cell_type": "code",
   "execution_count": null,
   "metadata": {
    "id": "Oiw8QHBnFSys"
   },
   "outputs": [],
   "source": []
  },
  {
   "cell_type": "markdown",
   "metadata": {
    "id": "-AtLqJVAFPQ4"
   },
   "source": [
    "Uma maneira é criar combinações de itens em cada linha e contar as ocorrências de cada combinação. Os itertools do python podem ser usados ​​para realizar essa tarefa.\n",
    "Aqui está um exemplo para a primeira linha."
   ]
  },
  {
   "cell_type": "code",
   "execution_count": 26,
   "metadata": {
    "colab": {
     "base_uri": "https://localhost:8080/",
     "height": 66
    },
    "id": "KDanSNENuP4E",
    "outputId": "83f2a815-12b4-4843-b5f8-2224a76ee18d"
   },
   "outputs": [
    {
     "data": {
      "text/plain": [
       "[('whole milk', 'pastry'),\n",
       " ('whole milk', 'salty snack'),\n",
       " ('pastry', 'salty snack')]"
      ]
     },
     "execution_count": 26,
     "metadata": {
      "tags": []
     },
     "output_type": "execute_result"
    }
   ],
   "source": [
    "import itertools\n",
    "\n",
    "list(itertools.combinations(lista_compras.itemDescription[0], 2))"
   ]
  },
  {
   "cell_type": "markdown",
   "metadata": {
    "id": "W0FnrbwdFh6P"
   },
   "source": [
    "Existem 3 itens na primeira linha, portanto, temos 3 combinações de pares. Itertools.combinations não retorna combinações repetidas (por exemplo ('pastelaria', 'pastelaria')), que é o que precisamos."
   ]
  },
  {
   "cell_type": "code",
   "execution_count": null,
   "metadata": {
    "id": "lWI9hzFqDYL9"
   },
   "outputs": [],
   "source": []
  },
  {
   "cell_type": "markdown",
   "metadata": {
    "id": "EDHHZsCDDYRq"
   },
   "source": [
    "O código a seguir fará essa operação em cada linha e adicionará as combinações a uma lista."
   ]
  },
  {
   "cell_type": "code",
   "execution_count": 39,
   "metadata": {
    "id": "Xzc-Kr0aDYVr"
   },
   "outputs": [],
   "source": [
    "#Vou criar uma lista vazia\n",
    "\n",
    "combinar_lista = []\n",
    "for lista in lista_compras.itemDescription:\n",
    "  combinacao = list(itertools.combinations(lista, 2))\n",
    "  combinar_lista.append(combinacao)"
   ]
  },
  {
   "cell_type": "code",
   "execution_count": 40,
   "metadata": {
    "colab": {
     "base_uri": "https://localhost:8080/",
     "height": 166
    },
    "id": "_TP5j47mtiJ7",
    "outputId": "daee7d96-e1d7-49d2-b2cd-f27740ca2ac3"
   },
   "outputs": [
    {
     "data": {
      "text/plain": [
       "[[('whole milk', 'pastry'),\n",
       "  ('whole milk', 'salty snack'),\n",
       "  ('pastry', 'salty snack')],\n",
       " [('sausage', 'whole milk'),\n",
       "  ('sausage', 'semi-finished bread'),\n",
       "  ('sausage', 'yogurt'),\n",
       "  ('whole milk', 'semi-finished bread'),\n",
       "  ('whole milk', 'yogurt'),\n",
       "  ('semi-finished bread', 'yogurt')]]"
      ]
     },
     "execution_count": 40,
     "metadata": {
      "tags": []
     },
     "output_type": "execute_result"
    }
   ],
   "source": [
    "combinar_lista[:2]"
   ]
  },
  {
   "cell_type": "code",
   "execution_count": null,
   "metadata": {
    "id": "KICokZ9hJsj-"
   },
   "outputs": [],
   "source": []
  },
  {
   "cell_type": "markdown",
   "metadata": {
    "id": "amv5hsrdtiTj"
   },
   "source": [
    "Podemos criar uma lista a partir dessa lista de listas usando a função explodir dos pandas, mas primeiro precisamos convertê-la em uma série de pandas."
   ]
  },
  {
   "cell_type": "code",
   "execution_count": 42,
   "metadata": {
    "id": "Q2nW8bUitiZA"
   },
   "outputs": [],
   "source": [
    "combinar_contas = pd.Series(combinar_lista).explode().reset_index(drop = True)"
   ]
  },
  {
   "cell_type": "code",
   "execution_count": 43,
   "metadata": {
    "colab": {
     "base_uri": "https://localhost:8080/",
     "height": 116
    },
    "id": "W58IabfQJtbW",
    "outputId": "6f7cb2ef-3d5c-4a60-b285-cffddfdced54"
   },
   "outputs": [
    {
     "data": {
      "text/plain": [
       "0              (whole milk, pastry)\n",
       "1         (whole milk, salty snack)\n",
       "2             (pastry, salty snack)\n",
       "3             (sausage, whole milk)\n",
       "4    (sausage, semi-finished bread)\n",
       "dtype: object"
      ]
     },
     "execution_count": 43,
     "metadata": {
      "tags": []
     },
     "output_type": "execute_result"
    }
   ],
   "source": [
    "combinar_contas[:5]"
   ]
  },
  {
   "cell_type": "code",
   "execution_count": null,
   "metadata": {
    "id": "_7Y2R4pLJtfy"
   },
   "outputs": [],
   "source": []
  },
  {
   "cell_type": "markdown",
   "metadata": {
    "id": "SngyCL6TJu84"
   },
   "source": [
    "Agora podemos contar o número de ocorrências de cada combinação usando a função value_counts. Aqui estão as dez combinações mais frequentes:"
   ]
  },
  {
   "cell_type": "code",
   "execution_count": 44,
   "metadata": {
    "colab": {
     "base_uri": "https://localhost:8080/",
     "height": 200
    },
    "id": "-kgkJdSwJvD3",
    "outputId": "ad53c103-2f52-4f11-8ade-265d52574224"
   },
   "outputs": [
    {
     "data": {
      "text/plain": [
       "(whole milk, whole milk)          148\n",
       "(whole milk, rolls/buns)          143\n",
       "(sausage, whole milk)             131\n",
       "(other vegetables, whole milk)    130\n",
       "(whole milk, soda)                128\n",
       "(whole milk, yogurt)              126\n",
       "(whole milk, other vegetables)    113\n",
       "(other vegetables, rolls/buns)    112\n",
       "(tropical fruit, whole milk)      101\n",
       "(other vegetables, soda)           95\n",
       "dtype: int64"
      ]
     },
     "execution_count": 44,
     "metadata": {
      "tags": []
     },
     "output_type": "execute_result"
    }
   ],
   "source": [
    "combinar_contas.value_counts()[:10]"
   ]
  },
  {
   "cell_type": "markdown",
   "metadata": {
    "id": "Cc857xuoKezb"
   },
   "source": [
    "O primeiro é uma surpresa porque está se repetindo. Fizemos as combinações sem elementos repetidos.\n",
    "O conjunto de dados pode conter elementos repating. Por exemplo, se um cliente compra 2 leites em uma compra, deve haver duas filas de leite integral para essa compra."
   ]
  },
  {
   "cell_type": "code",
   "execution_count": null,
   "metadata": {
    "id": "-WRRIRGcKe4f"
   },
   "outputs": [],
   "source": []
  },
  {
   "cell_type": "markdown",
   "metadata": {
    "id": "hF3guYVBJvKY"
   },
   "source": [
    "Podemos confirmar contando o número de leites em cada compra."
   ]
  },
  {
   "cell_type": "code",
   "execution_count": 45,
   "metadata": {
    "id": "IivBHPYLLGaj"
   },
   "outputs": [],
   "source": [
    "leite = mercado[mercado.itemDescription == 'whole milk'].groupby(['Member_number','Date']).count().sort_values(by='itemDescription', ascending=False).reset_index()"
   ]
  },
  {
   "cell_type": "code",
   "execution_count": 46,
   "metadata": {
    "colab": {
     "base_uri": "https://localhost:8080/",
     "height": 197
    },
    "id": "ash04Z5oLGf4",
    "outputId": "c8e3dad2-b121-4925-a4e4-0c8f31579c69"
   },
   "outputs": [
    {
     "data": {
      "text/html": [
       "<div>\n",
       "<style scoped>\n",
       "    .dataframe tbody tr th:only-of-type {\n",
       "        vertical-align: middle;\n",
       "    }\n",
       "\n",
       "    .dataframe tbody tr th {\n",
       "        vertical-align: top;\n",
       "    }\n",
       "\n",
       "    .dataframe thead th {\n",
       "        text-align: right;\n",
       "    }\n",
       "</style>\n",
       "<table border=\"1\" class=\"dataframe\">\n",
       "  <thead>\n",
       "    <tr style=\"text-align: right;\">\n",
       "      <th></th>\n",
       "      <th>Member_number</th>\n",
       "      <th>Date</th>\n",
       "      <th>itemDescription</th>\n",
       "    </tr>\n",
       "  </thead>\n",
       "  <tbody>\n",
       "    <tr>\n",
       "      <th>0</th>\n",
       "      <td>1994</td>\n",
       "      <td>2015-11-03</td>\n",
       "      <td>4</td>\n",
       "    </tr>\n",
       "    <tr>\n",
       "      <th>1</th>\n",
       "      <td>3518</td>\n",
       "      <td>2014-08-02</td>\n",
       "      <td>3</td>\n",
       "    </tr>\n",
       "    <tr>\n",
       "      <th>2</th>\n",
       "      <td>4843</td>\n",
       "      <td>2015-05-13</td>\n",
       "      <td>3</td>\n",
       "    </tr>\n",
       "    <tr>\n",
       "      <th>3</th>\n",
       "      <td>2736</td>\n",
       "      <td>2015-02-03</td>\n",
       "      <td>3</td>\n",
       "    </tr>\n",
       "    <tr>\n",
       "      <th>4</th>\n",
       "      <td>1370</td>\n",
       "      <td>2015-06-28</td>\n",
       "      <td>3</td>\n",
       "    </tr>\n",
       "  </tbody>\n",
       "</table>\n",
       "</div>"
      ],
      "text/plain": [
       "   Member_number       Date  itemDescription\n",
       "0           1994 2015-11-03                4\n",
       "1           3518 2014-08-02                3\n",
       "2           4843 2015-05-13                3\n",
       "3           2736 2015-02-03                3\n",
       "4           1370 2015-06-28                3"
      ]
     },
     "execution_count": 46,
     "metadata": {
      "tags": []
     },
     "output_type": "execute_result"
    }
   ],
   "source": [
    "leite.head()"
   ]
  },
  {
   "cell_type": "markdown",
   "metadata": {
    "id": "i9O8QG-ZLGkS"
   },
   "source": [
    "Parece que o que suspeitamos está correto. Por exemplo, o cliente 1994 comprou 4 leites em 2015-11-03.\n",
    "\n",
    "Assim, faz todo o sentido ver que a combinação mais frequente é leite integral e leite integral.\n",
    "\n",
    "\n",
    "Devemos nos concentrar em combinações não repetitivas. Por exemplo, a segunda combinação mais frequente é leite integral e pãezinhos / pãezinhos. \n",
    "\n",
    "O leite integral parece estar dominando as listas de compras."
   ]
  },
  {
   "cell_type": "markdown",
   "metadata": {
    "id": "HmdZKPWjLGo5"
   },
   "source": [
    "Clauder Noronha"
   ]
  },
  {
   "cell_type": "code",
   "execution_count": null,
   "metadata": {
    "id": "PQXcps59OXbU"
   },
   "outputs": [],
   "source": []
  }
 ],
 "metadata": {
  "colab": {
   "collapsed_sections": [],
   "name": "Análise de cesta de compras.ipynb",
   "provenance": []
  },
  "kernelspec": {
   "display_name": "Python 3",
   "language": "python",
   "name": "python3"
  },
  "language_info": {
   "codemirror_mode": {
    "name": "ipython",
    "version": 3
   },
   "file_extension": ".py",
   "mimetype": "text/x-python",
   "name": "python",
   "nbconvert_exporter": "python",
   "pygments_lexer": "ipython3",
   "version": "3.7.4"
  }
 },
 "nbformat": 4,
 "nbformat_minor": 1
}
